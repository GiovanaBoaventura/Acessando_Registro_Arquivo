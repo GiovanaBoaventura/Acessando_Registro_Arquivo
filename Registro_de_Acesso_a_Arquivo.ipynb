{
  "nbformat": 4,
  "nbformat_minor": 0,
  "metadata": {
    "colab": {
      "provenance": [],
      "mount_file_id": "10PNXReFEqnwV-xktpzeAFhlQMOqS082L",
      "authorship_tag": "ABX9TyOwHGvkKu6ap6TRjdoSVhTe",
      "include_colab_link": true
    },
    "kernelspec": {
      "name": "python3",
      "display_name": "Python 3"
    },
    "language_info": {
      "name": "python"
    }
  },
  "cells": [
    {
      "cell_type": "markdown",
      "metadata": {
        "id": "view-in-github",
        "colab_type": "text"
      },
      "source": [
        "<a href=\"https://colab.research.google.com/github/GiovanaBoaventura/Acessando_Registro_Arquivo/blob/main/Registro_de_Acesso_a_Arquivo.ipynb\" target=\"_parent\"><img src=\"https://colab.research.google.com/assets/colab-badge.svg\" alt=\"Open In Colab\"/></a>"
      ]
    },
    {
      "cell_type": "markdown",
      "source": [
        "#**Projeto 1**"
      ],
      "metadata": {
        "id": "DtjIlR1R6C1g"
      }
    },
    {
      "cell_type": "markdown",
      "source": [
        "##Passo 2"
      ],
      "metadata": {
        "id": "Jw2tFDXU54sj"
      }
    },
    {
      "cell_type": "code",
      "execution_count": 36,
      "metadata": {
        "id": "P3yz_zp9quHs"
      },
      "outputs": [],
      "source": [
        "def openLog(Arquivo1ProjetoLP1, modo):\n",
        "    arqEntrada = open(Arquivo1ProjetoLP1, modo)\n",
        "    return arqEntrada"
      ]
    },
    {
      "cell_type": "markdown",
      "source": [
        "##Passo 3"
      ],
      "metadata": {
        "id": "EKdq-1ub5__2"
      }
    },
    {
      "cell_type": "code",
      "source": [
        "def openLog(Arquivo1ProjetoLP1, modo):\n",
        "    arqEntrada = open(Arquivo1ProjetoLP1, modo)\n",
        "\n",
        "#Abre arquivo log.txt no modo de acréscimo e acrescenta log\n",
        "    arqSaída = open('log.txt', 'a')\n",
        "    arqSaída.write('Arquivo {} aberto.\\n'.format(Arquivo1ProjetoLP1))\n",
        "    arqSaída.close()\n",
        "\n",
        "    return arqEntrada"
      ],
      "metadata": {
        "id": "Js1SolIf6NXm"
      },
      "execution_count": 37,
      "outputs": []
    },
    {
      "cell_type": "markdown",
      "source": [
        "##Passo 4"
      ],
      "metadata": {
        "id": "3YDtfO0_6Qtg"
      }
    },
    {
      "cell_type": "code",
      "source": [
        "import time\n",
        "\n",
        "def openLog(Arquivo1ProjetoLP1, modo = 'r'):\n",
        "#Abre arquivo em certo modo e retorna referência ao arquivo aberto; registra o acesso ao arquivo em log.txt\n",
        "\n",
        "    arqEntrada = open(Arquivo1ProjetoLP1, modo)\n",
        "\n",
        "    #Obtém hora atual\n",
        "    now = time.localtime()\n",
        "    nowFormat = time.strftime('%A %b/%d/%y %I:%M %p', now)\n",
        "\n",
        "\n",
        "    #Abre arquivo log.txt no modo de acréscimo e acrescenta log\n",
        "    arqSaída = open('log.txt', 'a')\n",
        "    arqSaída.write('Arquivo {} aberto.\\n'.format(Arquivo1ProjetoLP1))\n",
        "    arqSaída.close()\n",
        "\n",
        "    print('Registro realizado')\n",
        "\n",
        "    return arqEntrada\n",
        "\n",
        "#Para testar\n",
        "    openLog('//content/drive/MyDrive/Colab Notebooks/Atividade 1.txt/teste.txt')"
      ],
      "metadata": {
        "id": "bwFSKQ8n6lwU"
      },
      "execution_count": 2,
      "outputs": []
    },
    {
      "cell_type": "code",
      "source": [
        "from google.colab import drive\n",
        "drive.mount('/content/drive')"
      ],
      "metadata": {
        "colab": {
          "base_uri": "https://localhost:8080/"
        },
        "id": "EJn42qk4CRgA",
        "outputId": "cfdead3b-e286-4169-8adf-6197fc312b12"
      },
      "execution_count": 3,
      "outputs": [
        {
          "output_type": "stream",
          "name": "stdout",
          "text": [
            "Drive already mounted at /content/drive; to attempt to forcibly remount, call drive.mount(\"/content/drive\", force_remount=True).\n"
          ]
        }
      ]
    }
  ]
}
